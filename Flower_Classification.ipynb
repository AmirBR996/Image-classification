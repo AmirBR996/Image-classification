{
  "nbformat": 4,
  "nbformat_minor": 0,
  "metadata": {
    "colab": {
      "provenance": [],
      "gpuType": "T4"
    },
    "kernelspec": {
      "name": "python3",
      "display_name": "Python 3"
    },
    "language_info": {
      "name": "python"
    },
    "accelerator": "GPU"
  },
  "cells": [
    {
      "cell_type": "code",
      "execution_count": null,
      "metadata": {
        "colab": {
          "base_uri": "https://localhost:8080/"
        },
        "id": "7LuR_NwcBzzE",
        "outputId": "2ddf3bdc-e7d3-4969-8b54-09fc096b638e"
      },
      "outputs": [
        {
          "output_type": "stream",
          "name": "stdout",
          "text": [
            "Using Colab cache for faster access to the '5-flower-types-classification-dataset' dataset.\n",
            "Path to dataset files: /kaggle/input/5-flower-types-classification-dataset\n"
          ]
        }
      ],
      "source": [
        "import kagglehub\n",
        "\n",
        "# Download latest version\n",
        "path = kagglehub.dataset_download(\"kausthubkannan/5-flower-types-classification-dataset\")\n",
        "\n",
        "print(\"Path to dataset files:\", path)"
      ]
    },
    {
      "cell_type": "code",
      "source": [
        "import torch\n",
        "import torch.nn as nn\n",
        "import torch.optim as optim\n",
        "from torchvision import datasets, transforms\n",
        "from torch.utils.data import DataLoader\n",
        "\n",
        "# Device\n",
        "device = torch.device(\"cuda\" if torch.cuda.is_available() else \"cpu\")\n",
        "\n",
        "# Dataset & DataLoader\n",
        "data_dir = \"/root/.cache/kagglehub/datasets/kausthubkannan/5-flower-types-classification-dataset/versions/1/flower_images\"\n",
        "transform = transforms.Compose([\n",
        "    transforms.Resize(256),\n",
        "    transforms.CenterCrop(224),\n",
        "    transforms.ToTensor(),\n",
        "    transforms.Normalize([0.485,0.456,0.406],[0.229,0.224,0.225])\n",
        "])\n",
        "dataset = datasets.ImageFolder(root=data_dir, transform=transform)\n",
        "dataloader = DataLoader(dataset, batch_size=32, shuffle=True)\n",
        "\n",
        "class_names = dataset.classes\n",
        "print(\"Classes:\", class_names)"
      ],
      "metadata": {
        "colab": {
          "base_uri": "https://localhost:8080/"
        },
        "id": "PW3-9soM_np-",
        "outputId": "fb029558-fe9d-474d-e625-fd30a1dcf8fc"
      },
      "execution_count": null,
      "outputs": [
        {
          "output_type": "stream",
          "name": "stdout",
          "text": [
            "Classes: ['Lilly', 'Lotus', 'Orchid', 'Sunflower', 'Tulip']\n"
          ]
        }
      ]
    },
    {
      "cell_type": "code",
      "source": [
        "device = torch.device('cuda' if torch.cuda.is_available() else 'cpu')\n",
        "print(f\"Using device: {device}\")"
      ],
      "metadata": {
        "colab": {
          "base_uri": "https://localhost:8080/"
        },
        "id": "JY_tXjSBAici",
        "outputId": "4a6ba4fb-ae9b-432d-cbe1-deaded32cce7"
      },
      "execution_count": null,
      "outputs": [
        {
          "output_type": "stream",
          "name": "stdout",
          "text": [
            "Using device: cuda\n"
          ]
        }
      ]
    },
    {
      "cell_type": "code",
      "source": [
        "class CNN_(nn.Module):\n",
        "    def __init__(self, input_channels=3, num_classes=5):\n",
        "        super().__init__()\n",
        "        self.features = nn.Sequential(\n",
        "            nn.Conv2d(input_channels, 32, 3, padding=\"same\"),\n",
        "            nn.ReLU(),\n",
        "            nn.MaxPool2d(2,2),\n",
        "            nn.Conv2d(32,64,3,padding=\"same\"),\n",
        "            nn.ReLU(),\n",
        "            nn.MaxPool2d(2,2),\n",
        "            nn.Conv2d(64,128,3,padding=\"same\"),\n",
        "            nn.ReLU(),\n",
        "            nn.MaxPool2d(2,2)\n",
        "        )\n",
        "        self.classifier = nn.Sequential(\n",
        "            nn.Flatten(),\n",
        "            nn.Linear(128*28*28, 512),\n",
        "            nn.ReLU(),\n",
        "            nn.Linear(512,128),\n",
        "            nn.ReLU(),\n",
        "            nn.Linear(128,num_classes)\n",
        "        )\n",
        "\n",
        "    def forward(self,x):\n",
        "        x = self.features(x)\n",
        "        x = self.classifier(x)\n",
        "        return x"
      ],
      "metadata": {
        "id": "r3ByYrb5_uu5"
      },
      "execution_count": null,
      "outputs": []
    },
    {
      "cell_type": "code",
      "source": [
        "num_classes = len(class_names)\n",
        "model = CNN_(num_classes=num_classes).to(device)\n",
        "criterion = nn.CrossEntropyLoss()\n",
        "optimizer = optim.Adam(model.parameters(), lr=0.0001)"
      ],
      "metadata": {
        "id": "hqRGFKUY_wrh"
      },
      "execution_count": null,
      "outputs": []
    },
    {
      "cell_type": "code",
      "source": [
        "epochs = 20\n",
        "losses = []\n",
        "for epoch in range(epochs):\n",
        "    model.train()\n",
        "    total_loss = 0\n",
        "\n",
        "    for batch_features, batch_labels in dataloader:\n",
        "        batch_features, batch_labels = batch_features.to(device), batch_labels.to(device)\n",
        "        optimizer.zero_grad()\n",
        "        outputs = model(batch_features)\n",
        "        loss = criterion(outputs, batch_labels)\n",
        "        loss.backward()\n",
        "        optimizer.step()\n",
        "\n",
        "        total_loss += loss.item()\n",
        "\n",
        "    avg_loss = total_loss / len(dataloader)\n",
        "    losses.append(avg_loss)\n",
        "    print(f\"Epoch [{epoch+1}/{epochs}], Loss: {avg_loss:.4f}\")\n"
      ],
      "metadata": {
        "colab": {
          "base_uri": "https://localhost:8080/"
        },
        "id": "Tmjh2ugT_yD7",
        "outputId": "99d60356-6376-4419-8eae-2c9c03ee741d"
      },
      "execution_count": null,
      "outputs": [
        {
          "output_type": "stream",
          "name": "stdout",
          "text": [
            "Epoch [1/20], Loss: 1.1750\n",
            "Epoch [2/20], Loss: 0.8857\n",
            "Epoch [3/20], Loss: 0.6768\n",
            "Epoch [4/20], Loss: 0.4793\n",
            "Epoch [5/20], Loss: 0.3043\n",
            "Epoch [6/20], Loss: 0.1912\n",
            "Epoch [7/20], Loss: 0.1100\n",
            "Epoch [8/20], Loss: 0.0547\n",
            "Epoch [9/20], Loss: 0.0347\n",
            "Epoch [10/20], Loss: 0.0501\n",
            "Epoch [11/20], Loss: 0.0272\n",
            "Epoch [12/20], Loss: 0.0208\n",
            "Epoch [13/20], Loss: 0.0155\n",
            "Epoch [14/20], Loss: 0.0131\n",
            "Epoch [15/20], Loss: 0.0189\n",
            "Epoch [16/20], Loss: 0.0154\n",
            "Epoch [17/20], Loss: 0.0119\n",
            "Epoch [18/20], Loss: 0.0097\n",
            "Epoch [19/20], Loss: 0.0118\n",
            "Epoch [20/20], Loss: 0.0104\n"
          ]
        }
      ]
    },
    {
      "cell_type": "code",
      "source": [
        "import matplotlib.pyplot as plt\n",
        "plt.plot(losses)"
      ],
      "metadata": {
        "colab": {
          "base_uri": "https://localhost:8080/",
          "height": 447
        },
        "id": "9Ij7ef_g_1n1",
        "outputId": "5ee426e3-de2e-4f76-d707-8e258ebf5fd2"
      },
      "execution_count": null,
      "outputs": [
        {
          "output_type": "execute_result",
          "data": {
            "text/plain": [
              "[<matplotlib.lines.Line2D at 0x7c0d88a86c60>]"
            ]
          },
          "metadata": {},
          "execution_count": 25
        },
        {
          "output_type": "display_data",
          "data": {
            "text/plain": [
              "<Figure size 640x480 with 1 Axes>"
            ],
            "image/png": "[encoded data removed]"
          },
          "metadata": {}
        }
      ]
    },
    {
      "cell_type": "code",
      "source": [
        "from PIL import Image\n",
        "import torch\n",
        "model = CNN_(num_classes=5)\n",
        "torch.save(model.state_dict(), \"/content/model.pth\")\n",
        "model.load_state_dict(torch.load(\"/content/model.pth\", map_location=device))\n",
        "model.to(device)\n",
        "model.eval()\n",
        "img_path = '/content/tulip.jpeg'\n",
        "image = Image.open(img_path).convert('RGB')\n",
        "image = transform(image).unsqueeze(0)\n",
        "image = image.to(device)\n",
        "with torch.no_grad():\n",
        "    outputs = model(image)\n",
        "    _, predicted = torch.max(outputs, 1)\n",
        "class_names = ['Lilly', 'Lotus', 'Orchid', 'Sunflower', 'Tulip']\n",
        "print(\"Predicted class:\", class_names[predicted.item()])\n"
      ],
      "metadata": {
        "colab": {
          "base_uri": "https://localhost:8080/"
        },
        "id": "IYn1mBPMHLhJ",
        "outputId": "74e56753-665e-4895-9374-788dd97c2886"
      },
      "execution_count": null,
      "outputs": [
        {
          "output_type": "stream",
          "name": "stdout",
          "text": [
            "Predicted class: Tulip\n"
          ]
        }
      ]
    }
  ]
}